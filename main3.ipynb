{
 "cells": [
  {
   "cell_type": "code",
   "execution_count": 1,
   "metadata": {},
   "outputs": [],
   "source": [
    "import pandas as pd\n",
    "#import matplotlib.pyplot as plt\n",
    "import numpy as np\n",
    "import os\n",
    "from numpy import genfromtxt\n",
    "import sqlalchemy as db\n",
    "\n",
    "from sqlalchemy import create_engine , MetaData,Table,Integer,Column,String,delete\n",
    "from sqlalchemy.ext.declarative import declarative_base\n",
    "from sqlalchemy.orm import sessionmaker\n",
    "from sqlalchemy_utils import database_exists, create_database\n",
    "\n",
    "\n",
    " "
   ]
  },
  {
   "cell_type": "code",
   "execution_count": 2,
   "metadata": {},
   "outputs": [],
   "source": [
    "def Load_Data(file_name):\n",
    "    data = genfromtxt(file_name, delimiter=',', skip_header=1)\n",
    "    return data.tolist()\n",
    "Base = declarative_base()"
   ]
  },
  {
   "cell_type": "code",
   "execution_count": 3,
   "metadata": {},
   "outputs": [],
   "source": [
    "class Train_data(Base):\n",
    "    #Tell SQLAlchemy what the table name is and if there's any table-specific arguments it should know about\n",
    "    __tablename__ = 'Train_data'\n",
    "    __table_args__ = {'sqlite_autoincrement': True}\n",
    "    #tell SQLAlchemy the name of column and its attributes:\n",
    "    id = Column(Integer, primary_key=True, nullable=False) \n",
    "    X = Column(Integer)\n",
    "    Y1 = Column(Integer)\n",
    "    Y2 = Column(Integer)\n",
    "    Y3 = Column(Integer)\n",
    "    \n",
    "    Y4 = Column(Integer)\n",
    "\n",
    "class Test_data(Base):\n",
    "    #Tell SQLAlchemy what the table name is and if there's any table-specific arguments it should know about\n",
    "    __tablename__ = 'Test_data'\n",
    "    __table_args__ = {'sqlite_autoincrement': True}\n",
    "    #tell SQLAlchemy the name of column and its attributes:\n",
    "    id = Column(Integer, primary_key=True, nullable=False) \n",
    "    X = Column(Integer)\n",
    "    Y = Column(Integer)\n",
    "\n",
    "class Test_Table(Base):\n",
    "    #Tell SQLAlchemy what the table name is and if there's any table-specific arguments it should know about\n",
    "    __tablename__ = 'Test_Table'\n",
    "    __table_args__ = {'sqlite_autoincrement': True}\n",
    "    #tell SQLAlchemy the name of column and its attributes:\n",
    "    id = Column(Integer, primary_key=True, nullable=False) \n",
    "    X = Column(Integer)\n",
    "    Y = Column(Integer)\n",
    "    y_Dev=Column(Integer)\n",
    "    y_No=Column(Integer)\n",
    "\n",
    "class Ideal_data(Base):\n",
    "    #Tell SQLAlchemy what the table name is and if there's any table-specific arguments it should know about\n",
    "    __tablename__ = 'Ideal_data'\n",
    "    __table_args__ = {'sqlite_autoincrement': True}\n",
    "    #tell SQLAlchemy the name of column and its attributes:\n",
    "    id = Column(Integer, primary_key=True, nullable=False) \n",
    "    X = Column(Integer)\n",
    "    Y1 = Column(Integer)\n",
    "    Y2 = Column(Integer)\n",
    "    Y3 = Column(Integer)\n",
    "    Y4 = Column(Integer)   \n",
    "    Y5 = Column(Integer)\n",
    "    Y6 = Column(Integer)\n",
    "    Y7 = Column(Integer)\n",
    "    Y8 = Column(Integer)  \n",
    "    Y9 = Column(Integer)\n",
    "    Y10 = Column(Integer)\n",
    "    Y11 = Column(Integer)\n",
    "    Y12 = Column(Integer)   \n",
    "    Y13 = Column(Integer)\n",
    "    Y14 = Column(Integer)\n",
    "    Y15 = Column(Integer)\n",
    "    Y16 = Column(Integer) \n",
    "    Y17 = Column(Integer)\n",
    "    Y18 = Column(Integer)\n",
    "    Y19 = Column(Integer)\n",
    "    Y20 = Column(Integer)   \n",
    "    Y21 = Column(Integer)\n",
    "    Y22 = Column(Integer)\n",
    "    Y23 = Column(Integer)\n",
    "    Y24 = Column(Integer) \n",
    "    Y25 = Column(Integer)\n",
    "    Y26 = Column(Integer)\n",
    "    Y27 = Column(Integer)   \n",
    "    Y28 = Column(Integer)\n",
    "    Y29 = Column(Integer)\n",
    "    Y30 = Column(Integer)\n",
    "    Y31 = Column(Integer) \n",
    "    Y32 = Column(Integer)\n",
    "    Y33 = Column(Integer)\n",
    "    Y34 = Column(Integer)\n",
    "    Y35 = Column(Integer)   \n",
    "    Y36 = Column(Integer)\n",
    "    Y37 = Column(Integer)\n",
    "    Y38 = Column(Integer)\n",
    "    Y39 = Column(Integer) \n",
    "    Y40 = Column(Integer)\n",
    "    Y41 = Column(Integer)\n",
    "    Y42 = Column(Integer)   \n",
    "    Y43 = Column(Integer)\n",
    "    Y44 = Column(Integer)\n",
    "    Y45 = Column(Integer)\n",
    "    Y46 = Column(Integer) \n",
    "    Y47 = Column(Integer)\n",
    "    Y48 = Column(Integer)\n",
    "    Y49 = Column(Integer)\n",
    "    Y50 = Column(Integer)   "
   ]
  },
  {
   "cell_type": "code",
   "execution_count": 4,
   "metadata": {},
   "outputs": [
    {
     "name": "stdout",
     "output_type": "stream",
     "text": [
      "True\n",
      "2021-11-12 20:43:21,698 INFO sqlalchemy.engine.Engine BEGIN (implicit)\n",
      "2021-11-12 20:43:21,700 INFO sqlalchemy.engine.Engine PRAGMA main.table_info(\"Train_data\")\n",
      "2021-11-12 20:43:21,703 INFO sqlalchemy.engine.Engine [raw sql] ()\n",
      "2021-11-12 20:43:21,706 INFO sqlalchemy.engine.Engine PRAGMA main.table_info(\"Test_data\")\n",
      "2021-11-12 20:43:21,707 INFO sqlalchemy.engine.Engine [raw sql] ()\n",
      "2021-11-12 20:43:21,709 INFO sqlalchemy.engine.Engine PRAGMA main.table_info(\"Test_Table\")\n",
      "2021-11-12 20:43:21,711 INFO sqlalchemy.engine.Engine [raw sql] ()\n",
      "2021-11-12 20:43:21,713 INFO sqlalchemy.engine.Engine PRAGMA main.table_info(\"Ideal_data\")\n",
      "2021-11-12 20:43:21,715 INFO sqlalchemy.engine.Engine [raw sql] ()\n",
      "2021-11-12 20:43:21,718 INFO sqlalchemy.engine.Engine COMMIT\n"
     ]
    }
   ],
   "source": [
    "engine = db.create_engine('sqlite:///MyPyProject.db', echo = True)\n",
    "if not database_exists(engine.url):\n",
    "    create_database(engine.url)\n",
    "\n",
    "print(database_exists(engine.url))\n",
    "meta = MetaData()\n",
    "Base.metadata.create_all(engine)\n",
    "session = sessionmaker()\n",
    "session.configure(bind=engine)\n",
    "s = session()\n",
    "\n",
    "#engine.execute('delete from \"Train_data\"')\n",
    "#engine.execute('delete from \"Test_data\"')\n",
    "#engine.execute('delete from \"Ideal_data\"')\n",
    "\n"
   ]
  },
  {
   "cell_type": "code",
   "execution_count": null,
   "metadata": {},
   "outputs": [],
   "source": [
    "# loading train dataset into Train_data table\n",
    "engine.execute('delete from \"Train_data\"')\n",
    "try:\n",
    "    file_name = \"E:/IUBH/Books/Python/codes/train.csv\"\n",
    "    data = Load_Data(file_name) \n",
    "    for i in data:\n",
    "        \n",
    "        record = Train_data(**{\n",
    "            'X' : i[0],\n",
    "            'Y1' : i[1],\n",
    "            'Y2' : i[2],\n",
    "            'Y3' : i[3],\n",
    "            'Y4' : i[4]\n",
    "        })\n",
    "        s.add(record) #Add all the records\n",
    "\n",
    "    s.commit() #Attempt to commit all the records\n",
    "\n",
    "except:\n",
    "    s.rollback() #Rollback the changes on error\n",
    "finally:\n",
    "    s.close() \n"
   ]
  },
  {
   "cell_type": "code",
   "execution_count": null,
   "metadata": {},
   "outputs": [],
   "source": [
    "# loading the test.csv file into a Test_data table\n",
    "engine.execute('delete from \"Test_data\"')\n",
    "try:\n",
    "    file_name = \"E:/IUBH/Books/Python/codes/test.csv\"\n",
    "    data = Load_Data(file_name) \n",
    "    for i in data:\n",
    "        \n",
    "        record = Test_data(**{\n",
    "            'X' : i[0],\n",
    "            'Y' : i[1],\n",
    "        })\n",
    "        s.add(record) #Add all the records\n",
    "\n",
    "    s.commit() #Attempt to commit all the records\n",
    "except Exception as e:\n",
    "    s.rollback() #Rollback the changes on error\n",
    "    print(e)\n",
    "finally:\n",
    "    s.close() "
   ]
  },
  {
   "cell_type": "code",
   "execution_count": null,
   "metadata": {},
   "outputs": [],
   "source": [
    "# loading ideal.csv file into Ideal_data table\n",
    "\n",
    "try:\n",
    "    file_name = \"E:/IUBH/Books/Python/codes/ideal.csv\"\n",
    "    data = Load_Data(file_name) \n",
    "    for i in data:\n",
    "        \n",
    "        record = Ideal_data(**{\n",
    "            'X' : i[0],\n",
    "            'Y1' : i[1],\n",
    "            'Y2' : i[2],\n",
    "            'Y3' : i[3],\n",
    "            'Y4' : i[4],\n",
    "            'Y5' : i[5],\n",
    "            'Y6' : i[6],\n",
    "            'Y7' : i[7],\n",
    "            'Y8' : i[8],\n",
    "            'Y9' : i[9],\n",
    "            'Y10' : i[10],\n",
    "            'Y11' : i[11],\n",
    "            'Y12' : i[12],\n",
    "            'Y13' : i[13],\n",
    "            'Y14' : i[14],\n",
    "            'Y15' : i[15],\n",
    "            'Y16' : i[16],\n",
    "            'Y17' : i[17],\n",
    "            'Y18' : i[18],\n",
    "            'Y19' : i[19],\n",
    "            'Y20' : i[20],\n",
    "            'Y21' : i[21],\n",
    "            'Y22' : i[22],\n",
    "            'Y23' : i[23],\n",
    "            'Y24' : i[24],\n",
    "            'Y25' : i[25],\n",
    "            'Y26' : i[26],\n",
    "            'Y27' : i[27],\n",
    "            'Y28' : i[28],\n",
    "            'Y29' : i[29],\n",
    "            'Y30' : i[30],\n",
    "            'Y31' : i[31],\n",
    "            'Y32' : i[32],\n",
    "            'Y33' : i[33],\n",
    "            'Y34' : i[34],\n",
    "            'Y35' : i[35],\n",
    "            'Y36' : i[36],\n",
    "            'Y37' : i[37],\n",
    "            'Y38' : i[38],\n",
    "            'Y39' : i[39],\n",
    "            'Y40' : i[40],\n",
    "            'Y41' : i[41],\n",
    "            'Y42' : i[42],\n",
    "            'Y43' : i[43],\n",
    "            'Y44' : i[44],\n",
    "            'Y45' : i[45],\n",
    "            'Y46' : i[46],\n",
    "            'Y47' : i[47],\n",
    "            'Y48' : i[48],\n",
    "            'Y49' : i[49],\n",
    "            'Y50' : i[50],\n",
    "        })\n",
    "        s.add(record) #Add all the records\n",
    "\n",
    "    s.commit() #Attempt to commit all the records\n",
    "except Exception as e:\n",
    "    s.rollback() #Rollback the changes on error\n",
    "    print(e)\n",
    "finally:\n",
    "    s.close() \n",
    "    "
   ]
  },
  {
   "cell_type": "code",
   "execution_count": 13,
   "metadata": {},
   "outputs": [
    {
     "name": "stdout",
     "output_type": "stream",
     "text": [
      "2021-11-12 20:46:49,435 INFO sqlalchemy.engine.Engine SELECT * FROM Train_data\n",
      "2021-11-12 20:46:49,436 INFO sqlalchemy.engine.Engine [raw sql] ()\n"
     ]
    }
   ],
   "source": [
    "Train_result = engine.execute('SELECT * FROM Train_data')\n",
    "Train_df=pd.DataFrame.from_records(Train_result,columns=[\"id\",\"X\",\"Y1\",\"Y2\",\"Y3\",\"Y4\"])\n",
    "\n",
    "Train_df=Train_df[[\"X\",\"Y1\",\"Y2\",\"Y3\",\"Y4\"]]"
   ]
  },
  {
   "cell_type": "code",
   "execution_count": 9,
   "metadata": {},
   "outputs": [
    {
     "name": "stdout",
     "output_type": "stream",
     "text": [
      "2021-11-12 20:45:18,526 INFO sqlalchemy.engine.Engine SELECT * FROM Test_data\n",
      "2021-11-12 20:45:18,528 INFO sqlalchemy.engine.Engine [raw sql] ()\n"
     ]
    }
   ],
   "source": [
    "Test_result = engine.execute('SELECT * FROM Test_data')\n",
    "Test_df=pd.DataFrame.from_records(Test_result,columns=[\"id\",\"X\",\"Y\"])\n",
    "\n",
    "Test_df=Test_df[[\"X\",\"Y\"]]"
   ]
  },
  {
   "cell_type": "code",
   "execution_count": null,
   "metadata": {},
   "outputs": [],
   "source": [
    "Test_df\n"
   ]
  },
  {
   "cell_type": "code",
   "execution_count": null,
   "metadata": {},
   "outputs": [],
   "source": [
    "Train_df"
   ]
  },
  {
   "cell_type": "code",
   "execution_count": 15,
   "metadata": {},
   "outputs": [
    {
     "name": "stdout",
     "output_type": "stream",
     "text": [
      "2021-11-12 20:47:03,057 INFO sqlalchemy.engine.Engine SELECT * FROM Ideal_data\n",
      "2021-11-12 20:47:03,058 INFO sqlalchemy.engine.Engine [raw sql] ()\n"
     ]
    }
   ],
   "source": [
    "Ideal_result = engine.execute('SELECT * FROM Ideal_data')\n",
    "Ideal_df=pd.DataFrame.from_records(Ideal_result,columns=[\"id\",\"X\",\"Y1\",\"Y2\",\"Y3\",\"Y4\",\"Y5\",\"Y6\",\"Y7\",\"Y8\",\"Y9\",\"Y10\",\"Y11\",\"Y12\",\n",
    "\"Y13\",\"Y14\",\"Y15\",\"Y16\",\"Y17\",\"Y18\",\"Y19\",\"Y20\",\"Y21\",\"Y22\",\"Y23\",\"Y24\",\"Y25\",\"Y26\",\"Y27\",\"Y28\",\"Y29\",\"Y30\",\"Y31\",\"Y32\",\n",
    "\"Y33\",\"Y34\",\"Y35\",\"Y36\",\"Y37\",\"Y38\",\"Y39\",\"Y40\",\"Y41\",\"Y42\",\"Y43\",\"Y44\",\"Y45\",\"Y46\",\"Y47\",\"Y48\",\"Y49\",\"Y50\"])\n",
    "\n",
    "Ideal_df=Ideal_df[[\"X\",\"Y1\",\"Y2\",\"Y3\",\"Y4\",\"Y5\",\"Y6\",\"Y7\",\"Y8\",\"Y9\",\"Y10\",\"Y11\",\"Y12\",\n",
    "\"Y13\",\"Y14\",\"Y15\",\"Y16\",\"Y17\",\"Y18\",\"Y19\",\"Y20\",\"Y21\",\"Y22\",\"Y23\",\"Y24\",\"Y25\",\"Y26\",\"Y27\",\"Y28\",\"Y29\",\"Y30\",\"Y31\",\"Y32\",\n",
    "\"Y33\",\"Y34\",\"Y35\",\"Y36\",\"Y37\",\"Y38\",\"Y39\",\"Y40\",\"Y41\",\"Y42\",\"Y43\",\"Y44\",\"Y45\",\"Y46\",\"Y47\",\"Y48\",\"Y49\",\"Y50\"]]"
   ]
  },
  {
   "cell_type": "code",
   "execution_count": 22,
   "metadata": {},
   "outputs": [
    {
     "name": "stdout",
     "output_type": "stream",
     "text": [
      "<sqlalchemy.engine.cursor.LegacyCursorResult object at 0x0000008662C8F3A0>\n"
     ]
    }
   ],
   "source": [
    "print(Ideal_result)"
   ]
  },
  {
   "cell_type": "code",
   "execution_count": 20,
   "metadata": {},
   "outputs": [
    {
     "data": {
      "text/html": [
       "<div>\n",
       "<style scoped>\n",
       "    .dataframe tbody tr th:only-of-type {\n",
       "        vertical-align: middle;\n",
       "    }\n",
       "\n",
       "    .dataframe tbody tr th {\n",
       "        vertical-align: top;\n",
       "    }\n",
       "\n",
       "    .dataframe thead th {\n",
       "        text-align: right;\n",
       "    }\n",
       "</style>\n",
       "<table border=\"1\" class=\"dataframe\">\n",
       "  <thead>\n",
       "    <tr style=\"text-align: right;\">\n",
       "      <th></th>\n",
       "      <th>X</th>\n",
       "      <th>Y1</th>\n",
       "      <th>Y2</th>\n",
       "      <th>Y3</th>\n",
       "      <th>Y4</th>\n",
       "      <th>Y5</th>\n",
       "      <th>Y6</th>\n",
       "      <th>Y7</th>\n",
       "      <th>Y8</th>\n",
       "      <th>Y9</th>\n",
       "      <th>...</th>\n",
       "      <th>Y41</th>\n",
       "      <th>Y42</th>\n",
       "      <th>Y43</th>\n",
       "      <th>Y44</th>\n",
       "      <th>Y45</th>\n",
       "      <th>Y46</th>\n",
       "      <th>Y47</th>\n",
       "      <th>Y48</th>\n",
       "      <th>Y49</th>\n",
       "      <th>Y50</th>\n",
       "    </tr>\n",
       "  </thead>\n",
       "  <tbody>\n",
       "  </tbody>\n",
       "</table>\n",
       "<p>0 rows × 51 columns</p>\n",
       "</div>"
      ],
      "text/plain": [
       "Empty DataFrame\n",
       "Columns: [X, Y1, Y2, Y3, Y4, Y5, Y6, Y7, Y8, Y9, Y10, Y11, Y12, Y13, Y14, Y15, Y16, Y17, Y18, Y19, Y20, Y21, Y22, Y23, Y24, Y25, Y26, Y27, Y28, Y29, Y30, Y31, Y32, Y33, Y34, Y35, Y36, Y37, Y38, Y39, Y40, Y41, Y42, Y43, Y44, Y45, Y46, Y47, Y48, Y49, Y50]\n",
       "Index: []\n",
       "\n",
       "[0 rows x 51 columns]"
      ]
     },
     "execution_count": 20,
     "metadata": {},
     "output_type": "execute_result"
    }
   ],
   "source": [
    "Ideal_df"
   ]
  },
  {
   "cell_type": "code",
   "execution_count": null,
   "metadata": {},
   "outputs": [],
   "source": [
    "'''\n",
    "def load_data():\n",
    "    train_df=pd.read_csv(\"train.csv\")\n",
    "    test_df=pd.read_csv(\"test.csv\")\n",
    "    ideal_df=pd.read_csv(\"ideal.csv\")\n",
    "    return train_df,test_df,ideal_df\n",
    "\n",
    "'''"
   ]
  },
  {
   "cell_type": "code",
   "execution_count": 12,
   "metadata": {},
   "outputs": [],
   "source": [
    "#train_df,test_df,ideal_df=load_data()\n",
    "x=Train_df.X.values\n",
    "y1=Train_df.Y1.values\n",
    "y2=Train_df.Y2.values\n",
    "y3=Train_df.Y3.values\n",
    "y4=Train_df.Y4.values"
   ]
  },
  {
   "cell_type": "code",
   "execution_count": null,
   "metadata": {},
   "outputs": [],
   "source": [
    "import matplotlib.pyplot as plt\n",
    "plt.plot(x,y1,'r.')\n",
    "plt.show()"
   ]
  },
  {
   "cell_type": "code",
   "execution_count": null,
   "metadata": {},
   "outputs": [],
   "source": [
    "Train_df.head()"
   ]
  },
  {
   "cell_type": "code",
   "execution_count": null,
   "metadata": {},
   "outputs": [],
   "source": [
    "result_sigma=pd.DataFrame()\n",
    "for i in range(1,5):\n",
    "    for j in range(1,51):\n",
    "        result_sigma.loc[\"Y\"+str(i),\"Y\"+str(j)]=((Train_df[\"Y\"+str(i)]-Ideal_df[\"Y\"+str(j)])**2).sum(axis=0)\n",
    "\n",
    "result_sigma.head()"
   ]
  },
  {
   "cell_type": "code",
   "execution_count": 15,
   "metadata": {},
   "outputs": [
    {
     "data": {
      "text/plain": [
       "Y1    70.092270\n",
       "Y2    61.295151\n",
       "Y3    72.137858\n",
       "Y4    63.795680\n",
       "dtype: float64"
      ]
     },
     "execution_count": 15,
     "metadata": {},
     "output_type": "execute_result"
    }
   ],
   "source": [
    "result_minimum=pd.DataFrame()\n",
    "result_minimum=result_sigma.min(axis=1)\n",
    "result_minimum.head()"
   ]
  },
  {
   "cell_type": "code",
   "execution_count": 16,
   "metadata": {},
   "outputs": [
    {
     "data": {
      "text/plain": [
       "Y1    Y20\n",
       "Y2     Y8\n",
       "Y3    Y26\n",
       "Y4    Y49\n",
       "dtype: object"
      ]
     },
     "execution_count": 16,
     "metadata": {},
     "output_type": "execute_result"
    }
   ],
   "source": [
    "result_min_index=result_sigma.idxmin(axis=1)\n",
    "result_min_index.head()"
   ]
  },
  {
   "cell_type": "code",
   "execution_count": 17,
   "metadata": {},
   "outputs": [
    {
     "data": {
      "text/plain": [
       "Y1    70.092270\n",
       "Y2    61.295151\n",
       "Y3    72.137858\n",
       "Y4    63.795680\n",
       "dtype: float64"
      ]
     },
     "execution_count": 17,
     "metadata": {},
     "output_type": "execute_result"
    }
   ],
   "source": [
    "result_minimum.head()"
   ]
  },
  {
   "cell_type": "code",
   "execution_count": null,
   "metadata": {},
   "outputs": [],
   "source": [
    "Test_df.head()"
   ]
  },
  {
   "cell_type": "code",
   "execution_count": null,
   "metadata": {},
   "outputs": [],
   "source": [
    "Ideal_df.head()"
   ]
  },
  {
   "cell_type": "code",
   "execution_count": 18,
   "metadata": {},
   "outputs": [
    {
     "data": {
      "text/plain": [
       "18     231.04\n",
       "418    231.04\n",
       "Name: Y20, dtype: float64"
      ]
     },
     "execution_count": 18,
     "metadata": {},
     "output_type": "execute_result"
    }
   ],
   "source": [
    "Ideal_df.loc[Ideal_df[\"X\"]==-18.2,\"Y20\"]"
   ]
  },
  {
   "cell_type": "code",
   "execution_count": 19,
   "metadata": {},
   "outputs": [],
   "source": [
    "col_list=result_min_index.values.tolist()\n",
    "col_list.insert(0,\"X\")"
   ]
  },
  {
   "cell_type": "code",
   "execution_count": 20,
   "metadata": {},
   "outputs": [
    {
     "data": {
      "text/plain": [
       "['X', 'Y20', 'Y8', 'Y26', 'Y49']"
      ]
     },
     "execution_count": 20,
     "metadata": {},
     "output_type": "execute_result"
    }
   ],
   "source": [
    "col_list"
   ]
  },
  {
   "cell_type": "code",
   "execution_count": 21,
   "metadata": {},
   "outputs": [
    {
     "data": {
      "text/html": [
       "<div>\n",
       "<style scoped>\n",
       "    .dataframe tbody tr th:only-of-type {\n",
       "        vertical-align: middle;\n",
       "    }\n",
       "\n",
       "    .dataframe tbody tr th {\n",
       "        vertical-align: top;\n",
       "    }\n",
       "\n",
       "    .dataframe thead th {\n",
       "        text-align: right;\n",
       "    }\n",
       "</style>\n",
       "<table border=\"1\" class=\"dataframe\">\n",
       "  <thead>\n",
       "    <tr style=\"text-align: right;\">\n",
       "      <th></th>\n",
       "      <th>X</th>\n",
       "      <th>Y20</th>\n",
       "      <th>Y8</th>\n",
       "      <th>Y26</th>\n",
       "      <th>Y49</th>\n",
       "    </tr>\n",
       "  </thead>\n",
       "  <tbody>\n",
       "    <tr>\n",
       "      <th>0</th>\n",
       "      <td>-20.0</td>\n",
       "      <td>289.00</td>\n",
       "      <td>-0.850919</td>\n",
       "      <td>-5832.000</td>\n",
       "      <td>0.912945</td>\n",
       "    </tr>\n",
       "    <tr>\n",
       "      <th>1</th>\n",
       "      <td>-19.9</td>\n",
       "      <td>285.61</td>\n",
       "      <td>0.168518</td>\n",
       "      <td>-5735.339</td>\n",
       "      <td>0.867644</td>\n",
       "    </tr>\n",
       "    <tr>\n",
       "      <th>2</th>\n",
       "      <td>-19.8</td>\n",
       "      <td>282.24</td>\n",
       "      <td>0.612391</td>\n",
       "      <td>-5639.752</td>\n",
       "      <td>0.813674</td>\n",
       "    </tr>\n",
       "    <tr>\n",
       "      <th>3</th>\n",
       "      <td>-19.7</td>\n",
       "      <td>278.89</td>\n",
       "      <td>-0.994669</td>\n",
       "      <td>-5545.233</td>\n",
       "      <td>0.751573</td>\n",
       "    </tr>\n",
       "    <tr>\n",
       "      <th>4</th>\n",
       "      <td>-19.6</td>\n",
       "      <td>275.56</td>\n",
       "      <td>0.774356</td>\n",
       "      <td>-5451.776</td>\n",
       "      <td>0.681964</td>\n",
       "    </tr>\n",
       "    <tr>\n",
       "      <th>...</th>\n",
       "      <td>...</td>\n",
       "      <td>...</td>\n",
       "      <td>...</td>\n",
       "      <td>...</td>\n",
       "      <td>...</td>\n",
       "    </tr>\n",
       "    <tr>\n",
       "      <th>795</th>\n",
       "      <td>19.5</td>\n",
       "      <td>506.25</td>\n",
       "      <td>-0.117020</td>\n",
       "      <td>9938.375</td>\n",
       "      <td>0.605540</td>\n",
       "    </tr>\n",
       "    <tr>\n",
       "      <th>796</th>\n",
       "      <td>19.6</td>\n",
       "      <td>510.76</td>\n",
       "      <td>0.774356</td>\n",
       "      <td>10077.696</td>\n",
       "      <td>0.681964</td>\n",
       "    </tr>\n",
       "    <tr>\n",
       "      <th>797</th>\n",
       "      <td>19.7</td>\n",
       "      <td>515.29</td>\n",
       "      <td>-0.994669</td>\n",
       "      <td>10218.313</td>\n",
       "      <td>0.751573</td>\n",
       "    </tr>\n",
       "    <tr>\n",
       "      <th>798</th>\n",
       "      <td>19.8</td>\n",
       "      <td>519.84</td>\n",
       "      <td>0.612391</td>\n",
       "      <td>10360.232</td>\n",
       "      <td>0.813674</td>\n",
       "    </tr>\n",
       "    <tr>\n",
       "      <th>799</th>\n",
       "      <td>19.9</td>\n",
       "      <td>524.41</td>\n",
       "      <td>0.168518</td>\n",
       "      <td>10503.459</td>\n",
       "      <td>0.867644</td>\n",
       "    </tr>\n",
       "  </tbody>\n",
       "</table>\n",
       "<p>800 rows × 5 columns</p>\n",
       "</div>"
      ],
      "text/plain": [
       "        X     Y20        Y8        Y26       Y49\n",
       "0   -20.0  289.00 -0.850919  -5832.000  0.912945\n",
       "1   -19.9  285.61  0.168518  -5735.339  0.867644\n",
       "2   -19.8  282.24  0.612391  -5639.752  0.813674\n",
       "3   -19.7  278.89 -0.994669  -5545.233  0.751573\n",
       "4   -19.6  275.56  0.774356  -5451.776  0.681964\n",
       "..    ...     ...       ...        ...       ...\n",
       "795  19.5  506.25 -0.117020   9938.375  0.605540\n",
       "796  19.6  510.76  0.774356  10077.696  0.681964\n",
       "797  19.7  515.29 -0.994669  10218.313  0.751573\n",
       "798  19.8  519.84  0.612391  10360.232  0.813674\n",
       "799  19.9  524.41  0.168518  10503.459  0.867644\n",
       "\n",
       "[800 rows x 5 columns]"
      ]
     },
     "execution_count": 21,
     "metadata": {},
     "output_type": "execute_result"
    }
   ],
   "source": [
    "new_df=Ideal_df[col_list]\n",
    "new_df"
   ]
  },
  {
   "cell_type": "code",
   "execution_count": 22,
   "metadata": {},
   "outputs": [
    {
     "data": {
      "text/plain": [
       "['Y20', 'Y8', 'Y26', 'Y49']"
      ]
     },
     "execution_count": 22,
     "metadata": {},
     "output_type": "execute_result"
    }
   ],
   "source": [
    "[X for X in col_list if X!='X']"
   ]
  },
  {
   "cell_type": "code",
   "execution_count": 23,
   "metadata": {},
   "outputs": [
    {
     "data": {
      "text/plain": [
       "['X', 'Y20', 'Y8', 'Y26', 'Y49']"
      ]
     },
     "execution_count": 23,
     "metadata": {},
     "output_type": "execute_result"
    }
   ],
   "source": [
    "col_list"
   ]
  },
  {
   "cell_type": "code",
   "execution_count": null,
   "metadata": {},
   "outputs": [],
   "source": [
    "Test_df"
   ]
  },
  {
   "cell_type": "markdown",
   "metadata": {},
   "source": [
    "## for loop\n"
   ]
  },
  {
   "cell_type": "code",
   "execution_count": 123,
   "metadata": {},
   "outputs": [
    {
     "name": "stdout",
     "output_type": "stream",
     "text": [
      "      Y20        Y8    Y26       Y49\n",
      "167  0.09 -0.994432 -2.197 -0.157746\n",
      "567  0.09 -0.994432 -2.197 -0.157746\n",
      "          Y20        Y8       Y26       Y49\n",
      "167  0.014236  1.070196  2.272764  0.233509\n",
      "567  0.014236  1.070196  2.272764  0.233509\n",
      "167    0.014236\n",
      "567    0.014236\n",
      "dtype: float64\n",
      "-3.3\n",
      "0.07576369\n",
      "167    Y20\n",
      "567    Y20\n",
      "dtype: object\n"
     ]
    },
    {
     "ename": "ValueError",
     "evalue": "Incompatible indexer with Series",
     "output_type": "error",
     "traceback": [
      "\u001b[1;31m---------------------------------------------------------------------------\u001b[0m",
      "\u001b[1;31mValueError\u001b[0m                                Traceback (most recent call last)",
      "\u001b[1;32mC:\\Users\\THISPC~1\\AppData\\Local\\Temp/ipykernel_5152/1758018374.py\u001b[0m in \u001b[0;36m<module>\u001b[1;34m\u001b[0m\n\u001b[0;32m     39\u001b[0m     \u001b[0mcol_name\u001b[0m\u001b[1;33m=\u001b[0m\u001b[1;33m(\u001b[0m\u001b[0mtemp_1\u001b[0m\u001b[1;33m.\u001b[0m\u001b[0midxmin\u001b[0m\u001b[1;33m(\u001b[0m\u001b[0maxis\u001b[0m\u001b[1;33m=\u001b[0m\u001b[1;36m1\u001b[0m\u001b[1;33m)\u001b[0m\u001b[1;33m)\u001b[0m\u001b[1;33m\u001b[0m\u001b[1;33m\u001b[0m\u001b[0m\n\u001b[0;32m     40\u001b[0m     \u001b[0mprint\u001b[0m\u001b[1;33m(\u001b[0m\u001b[0mcol_name\u001b[0m\u001b[1;33m)\u001b[0m\u001b[1;33m\u001b[0m\u001b[1;33m\u001b[0m\u001b[0m\n\u001b[1;32m---> 41\u001b[1;33m     \u001b[0mfinal_result\u001b[0m\u001b[1;33m.\u001b[0m\u001b[0mloc\u001b[0m\u001b[1;33m[\u001b[0m\u001b[1;36m174\u001b[0m\u001b[1;33m,\u001b[0m\u001b[1;34m'Ideal_func_No'\u001b[0m\u001b[1;33m]\u001b[0m\u001b[1;33m=\u001b[0m\u001b[0mcol_name\u001b[0m\u001b[1;33m\u001b[0m\u001b[1;33m\u001b[0m\u001b[0m\n\u001b[0m\u001b[0;32m     42\u001b[0m \u001b[1;33m\u001b[0m\u001b[0m\n\u001b[0;32m     43\u001b[0m \u001b[0mprint\u001b[0m\u001b[1;33m(\u001b[0m\u001b[0mfinal_result\u001b[0m\u001b[1;33m)\u001b[0m\u001b[1;33m\u001b[0m\u001b[1;33m\u001b[0m\u001b[0m\n",
      "\u001b[1;32mE:\\IUBH\\visual studio code\\Python\\lib\\site-packages\\pandas\\core\\indexing.py\u001b[0m in \u001b[0;36m__setitem__\u001b[1;34m(self, key, value)\u001b[0m\n\u001b[0;32m    721\u001b[0m \u001b[1;33m\u001b[0m\u001b[0m\n\u001b[0;32m    722\u001b[0m         \u001b[0miloc\u001b[0m \u001b[1;33m=\u001b[0m \u001b[0mself\u001b[0m \u001b[1;32mif\u001b[0m \u001b[0mself\u001b[0m\u001b[1;33m.\u001b[0m\u001b[0mname\u001b[0m \u001b[1;33m==\u001b[0m \u001b[1;34m\"iloc\"\u001b[0m \u001b[1;32melse\u001b[0m \u001b[0mself\u001b[0m\u001b[1;33m.\u001b[0m\u001b[0mobj\u001b[0m\u001b[1;33m.\u001b[0m\u001b[0miloc\u001b[0m\u001b[1;33m\u001b[0m\u001b[1;33m\u001b[0m\u001b[0m\n\u001b[1;32m--> 723\u001b[1;33m         \u001b[0miloc\u001b[0m\u001b[1;33m.\u001b[0m\u001b[0m_setitem_with_indexer\u001b[0m\u001b[1;33m(\u001b[0m\u001b[0mindexer\u001b[0m\u001b[1;33m,\u001b[0m \u001b[0mvalue\u001b[0m\u001b[1;33m,\u001b[0m \u001b[0mself\u001b[0m\u001b[1;33m.\u001b[0m\u001b[0mname\u001b[0m\u001b[1;33m)\u001b[0m\u001b[1;33m\u001b[0m\u001b[1;33m\u001b[0m\u001b[0m\n\u001b[0m\u001b[0;32m    724\u001b[0m \u001b[1;33m\u001b[0m\u001b[0m\n\u001b[0;32m    725\u001b[0m     \u001b[1;32mdef\u001b[0m \u001b[0m_validate_key\u001b[0m\u001b[1;33m(\u001b[0m\u001b[0mself\u001b[0m\u001b[1;33m,\u001b[0m \u001b[0mkey\u001b[0m\u001b[1;33m,\u001b[0m \u001b[0maxis\u001b[0m\u001b[1;33m:\u001b[0m \u001b[0mint\u001b[0m\u001b[1;33m)\u001b[0m\u001b[1;33m:\u001b[0m\u001b[1;33m\u001b[0m\u001b[1;33m\u001b[0m\u001b[0m\n",
      "\u001b[1;32mE:\\IUBH\\visual studio code\\Python\\lib\\site-packages\\pandas\\core\\indexing.py\u001b[0m in \u001b[0;36m_setitem_with_indexer\u001b[1;34m(self, indexer, value, name)\u001b[0m\n\u001b[0;32m   1687\u001b[0m                             \u001b[0mindexer\u001b[0m\u001b[1;33m,\u001b[0m \u001b[0mself\u001b[0m\u001b[1;33m.\u001b[0m\u001b[0mobj\u001b[0m\u001b[1;33m.\u001b[0m\u001b[0maxes\u001b[0m\u001b[1;33m\u001b[0m\u001b[1;33m\u001b[0m\u001b[0m\n\u001b[0;32m   1688\u001b[0m                         )\n\u001b[1;32m-> 1689\u001b[1;33m                         \u001b[0mself\u001b[0m\u001b[1;33m.\u001b[0m\u001b[0m_setitem_with_indexer\u001b[0m\u001b[1;33m(\u001b[0m\u001b[0mnew_indexer\u001b[0m\u001b[1;33m,\u001b[0m \u001b[0mvalue\u001b[0m\u001b[1;33m,\u001b[0m \u001b[0mname\u001b[0m\u001b[1;33m)\u001b[0m\u001b[1;33m\u001b[0m\u001b[1;33m\u001b[0m\u001b[0m\n\u001b[0m\u001b[0;32m   1690\u001b[0m \u001b[1;33m\u001b[0m\u001b[0m\n\u001b[0;32m   1691\u001b[0m                         \u001b[1;32mreturn\u001b[0m\u001b[1;33m\u001b[0m\u001b[1;33m\u001b[0m\u001b[0m\n",
      "\u001b[1;32mE:\\IUBH\\visual studio code\\Python\\lib\\site-packages\\pandas\\core\\indexing.py\u001b[0m in \u001b[0;36m_setitem_with_indexer\u001b[1;34m(self, indexer, value, name)\u001b[0m\n\u001b[0;32m   1728\u001b[0m         \u001b[1;32mif\u001b[0m \u001b[0mtake_split_path\u001b[0m\u001b[1;33m:\u001b[0m\u001b[1;33m\u001b[0m\u001b[1;33m\u001b[0m\u001b[0m\n\u001b[0;32m   1729\u001b[0m             \u001b[1;31m# We have to operate column-wise\u001b[0m\u001b[1;33m\u001b[0m\u001b[1;33m\u001b[0m\u001b[0m\n\u001b[1;32m-> 1730\u001b[1;33m             \u001b[0mself\u001b[0m\u001b[1;33m.\u001b[0m\u001b[0m_setitem_with_indexer_split_path\u001b[0m\u001b[1;33m(\u001b[0m\u001b[0mindexer\u001b[0m\u001b[1;33m,\u001b[0m \u001b[0mvalue\u001b[0m\u001b[1;33m,\u001b[0m \u001b[0mname\u001b[0m\u001b[1;33m)\u001b[0m\u001b[1;33m\u001b[0m\u001b[1;33m\u001b[0m\u001b[0m\n\u001b[0m\u001b[0;32m   1731\u001b[0m         \u001b[1;32melse\u001b[0m\u001b[1;33m:\u001b[0m\u001b[1;33m\u001b[0m\u001b[1;33m\u001b[0m\u001b[0m\n\u001b[0;32m   1732\u001b[0m             \u001b[0mself\u001b[0m\u001b[1;33m.\u001b[0m\u001b[0m_setitem_single_block\u001b[0m\u001b[1;33m(\u001b[0m\u001b[0mindexer\u001b[0m\u001b[1;33m,\u001b[0m \u001b[0mvalue\u001b[0m\u001b[1;33m,\u001b[0m \u001b[0mname\u001b[0m\u001b[1;33m)\u001b[0m\u001b[1;33m\u001b[0m\u001b[1;33m\u001b[0m\u001b[0m\n",
      "\u001b[1;32mE:\\IUBH\\visual studio code\\Python\\lib\\site-packages\\pandas\\core\\indexing.py\u001b[0m in \u001b[0;36m_setitem_with_indexer_split_path\u001b[1;34m(self, indexer, value, name)\u001b[0m\n\u001b[0;32m   1749\u001b[0m             \u001b[1;32mfrom\u001b[0m \u001b[0mpandas\u001b[0m \u001b[1;32mimport\u001b[0m \u001b[0mSeries\u001b[0m\u001b[1;33m\u001b[0m\u001b[1;33m\u001b[0m\u001b[0m\n\u001b[0;32m   1750\u001b[0m \u001b[1;33m\u001b[0m\u001b[0m\n\u001b[1;32m-> 1751\u001b[1;33m             \u001b[0mvalue\u001b[0m \u001b[1;33m=\u001b[0m \u001b[0mself\u001b[0m\u001b[1;33m.\u001b[0m\u001b[0m_align_series\u001b[0m\u001b[1;33m(\u001b[0m\u001b[0mindexer\u001b[0m\u001b[1;33m,\u001b[0m \u001b[0mSeries\u001b[0m\u001b[1;33m(\u001b[0m\u001b[0mvalue\u001b[0m\u001b[1;33m)\u001b[0m\u001b[1;33m)\u001b[0m\u001b[1;33m\u001b[0m\u001b[1;33m\u001b[0m\u001b[0m\n\u001b[0m\u001b[0;32m   1752\u001b[0m \u001b[1;33m\u001b[0m\u001b[0m\n\u001b[0;32m   1753\u001b[0m         \u001b[1;31m# Ensure we have something we can iterate over\u001b[0m\u001b[1;33m\u001b[0m\u001b[1;33m\u001b[0m\u001b[0m\n",
      "\u001b[1;32mE:\\IUBH\\visual studio code\\Python\\lib\\site-packages\\pandas\\core\\indexing.py\u001b[0m in \u001b[0;36m_align_series\u001b[1;34m(self, indexer, ser, multiindex_indexer)\u001b[0m\n\u001b[0;32m   2147\u001b[0m             \u001b[1;32mreturn\u001b[0m \u001b[0mser\u001b[0m\u001b[1;33m.\u001b[0m\u001b[0mreindex\u001b[0m\u001b[1;33m(\u001b[0m\u001b[0max\u001b[0m\u001b[1;33m)\u001b[0m\u001b[1;33m.\u001b[0m\u001b[0m_values\u001b[0m\u001b[1;33m\u001b[0m\u001b[1;33m\u001b[0m\u001b[0m\n\u001b[0;32m   2148\u001b[0m \u001b[1;33m\u001b[0m\u001b[0m\n\u001b[1;32m-> 2149\u001b[1;33m         \u001b[1;32mraise\u001b[0m \u001b[0mValueError\u001b[0m\u001b[1;33m(\u001b[0m\u001b[1;34m\"Incompatible indexer with Series\"\u001b[0m\u001b[1;33m)\u001b[0m\u001b[1;33m\u001b[0m\u001b[1;33m\u001b[0m\u001b[0m\n\u001b[0m\u001b[0;32m   2150\u001b[0m \u001b[1;33m\u001b[0m\u001b[0m\n\u001b[0;32m   2151\u001b[0m     \u001b[1;32mdef\u001b[0m \u001b[0m_align_frame\u001b[0m\u001b[1;33m(\u001b[0m\u001b[0mself\u001b[0m\u001b[1;33m,\u001b[0m \u001b[0mindexer\u001b[0m\u001b[1;33m,\u001b[0m \u001b[0mdf\u001b[0m\u001b[1;33m:\u001b[0m \u001b[0mDataFrame\u001b[0m\u001b[1;33m)\u001b[0m\u001b[1;33m:\u001b[0m\u001b[1;33m\u001b[0m\u001b[1;33m\u001b[0m\u001b[0m\n",
      "\u001b[1;31mValueError\u001b[0m: Incompatible indexer with Series"
     ]
    }
   ],
   "source": [
    "final_result=pd.DataFrame()\n",
    "y_test=Test_df.loc[174,\"Y\"] #-0.24\n",
    "x_test=Test_df.loc[174,\"X\"] #-18.2\n",
    "row_4=new_df.loc[new_df[\"X\"]==x_test,[X for X in col_list if X!=\"X\"]]\n",
    "print(row_4)\n",
    "temp_1=abs(row_4-y_test)\n",
    "print(temp_1)\n",
    "print(temp_1.min(axis=1))\n",
    "result=abs(Train_df.loc[Train_df[\"X\"]==x_test,[X for X in Train_df.columns.tolist() if X!=\"X\"]]-row_4.values)\n",
    "    #result=result.values.tolist() \n",
    "final_result.loc[174,\"X\"]=x_test\n",
    "final_result.loc[174,\"Y\"]=y_test\n",
    "mask_result=(temp_1<(result.values*np.sqrt(2)))\n",
    "print(x_test)\n",
    "print(y_test)\n",
    "#print(mask_result)\n",
    "y_Dev=int(0)\n",
    "n=int(0)\n",
    "for col in mask_result.columns.tolist():\n",
    "    #print(temp_1.iat[0,n])\n",
    "    #print(col)\n",
    "    if mask_result[col].values[0]:\n",
    "        if y_Dev==0:\n",
    "            y_Dev=temp_1.iat[0,n]\n",
    "            n+=1\n",
    "        else:\n",
    "            if y_Dev> temp_1.iat[0,n] :\n",
    "                y_Dev=temp_1.iat[0,n]\n",
    "                n+=1   \n",
    "    else:\n",
    "        n+=1\n",
    "\n",
    "if y_Dev==0:\n",
    "    final_result.loc[174,'Delta_y']='None'\n",
    "    final_result.loc[174,'Ideal_func_No']='None'\n",
    "else:\n",
    "    final_result.loc[174,'Delta_y']=y_Dev\n",
    "    #col=mask_result.loc[mask_result['']]\n",
    "    col_name=(temp_1.idxmin(axis=1))\n",
    "    print(col_name)\n",
    "    final_result.loc[174,'Ideal_func_No']=col_name\n",
    "\n",
    "print(final_result)\n"
   ]
  },
  {
   "cell_type": "code",
   "execution_count": 102,
   "metadata": {},
   "outputs": [
    {
     "name": "stdout",
     "output_type": "stream",
     "text": [
      "       X         Y   Y20     Y8    Y26   Y49\n",
      "74  -3.3  0.075764  True  False  False  True\n",
      "174 -3.3  0.075764  True  False  False  True\n"
     ]
    }
   ],
   "source": [
    "\n",
    "final_result=pd.DataFrame()\n",
    "for i in range(len(Test_df)):\n",
    "    y_test=Test_df.loc[i,\"Y\"] #-0.24\n",
    "    x_test=Test_df.loc[i,\"X\"] #-18.2\n",
    "    row_4=new_df.loc[new_df[\"X\"]==x_test,[X for X in col_list if X!=\"X\"]]\n",
    "    temp_1=abs(row_4-y_test)\n",
    "    #print(row_4)\n",
    "    #print(\"-----------------------------\")\n",
    "    #print(train_df.loc[train_df[\"x\"]==x_test,[x for x in train_df.columns.tolist() if x!=\"x\"]])\n",
    "    #print(\"-----------------------------\")\n",
    "    #print(train_df.loc[train_df[\"x\"]==x_test,[x for x in train_df.columns.tolist() if x!=\"x\"]]-row_4.values)\n",
    "    result=abs(Train_df.loc[Train_df[\"X\"]==x_test,[X for X in Train_df.columns.tolist() if X!=\"X\"]]-row_4.values)\n",
    "    #result=result.values.tolist() \n",
    "    final_result.loc[i,\"X\"]=x_test\n",
    "    final_result.loc[i,\"Y\"]=y_test\n",
    "    mask_result=(temp_1<(result.values*np.sqrt(2)))\n",
    "    #print(mask_result)\n",
    "    for col in mask_result.columns.tolist():\n",
    "        final_result.loc[i,col]=mask_result[col].values[0]\n",
    "print(final_result.loc[final_result['Y20'] & final_result['Y49']])\n",
    "#print(final_result)     "
   ]
  },
  {
   "cell_type": "code",
   "execution_count": null,
   "metadata": {},
   "outputs": [],
   "source": [
    "print(final_result.iloc[10:30])"
   ]
  },
  {
   "cell_type": "code",
   "execution_count": null,
   "metadata": {},
   "outputs": [],
   "source": [
    "for row in final_result.iterrows():\n",
    "    x=row.X\n",
    "    y=row.Y\n",
    "    div=df[df.loc['y']-y]\n",
    "    if row.Y20==True :\n",
    "        "
   ]
  },
  {
   "cell_type": "code",
   "execution_count": null,
   "metadata": {},
   "outputs": [],
   "source": [
    "sqlite_conn=engine.connect()\n",
    "Ideal_df.to_sql(Test_data,sqlite_conn,if_exists='fail')"
   ]
  },
  {
   "cell_type": "code",
   "execution_count": null,
   "metadata": {},
   "outputs": [
    {
     "data": {
      "text/plain": [
       "18    231.04\n",
       "Name: y20, dtype: float64"
      ]
     },
     "execution_count": 128,
     "metadata": {},
     "output_type": "execute_result"
    }
   ],
   "source": [
    "ideal_df.loc[ideal_df[\"x\"]==-18.20,\"y20\"]"
   ]
  },
  {
   "cell_type": "code",
   "execution_count": null,
   "metadata": {},
   "outputs": [],
   "source": [
    "engine = create_engine(\"postgres://localhost/mydb\")\n",
    "if not database_exists(engine.url):\n",
    "    create_database(engine.url)\n",
    "\n",
    "print(database_exists(engine.url))"
   ]
  }
 ],
 "metadata": {
  "interpreter": {
   "hash": "87308e7774343191dd0aeb9f89db9bb29b6df5432a7d2c320ccd8885160efcc4"
  },
  "kernelspec": {
   "display_name": "Python 3 (ipykernel)",
   "language": "python",
   "name": "python3"
  },
  "language_info": {
   "codemirror_mode": {
    "name": "ipython",
    "version": 3
   },
   "file_extension": ".py",
   "mimetype": "text/x-python",
   "name": "python",
   "nbconvert_exporter": "python",
   "pygments_lexer": "ipython3",
   "version": "3.10.0"
  }
 },
 "nbformat": 4,
 "nbformat_minor": 2
}
